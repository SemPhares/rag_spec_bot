{
 "cells": [
  {
   "cell_type": "markdown",
   "metadata": {},
   "source": [
    "LOADER"
   ]
  },
  {
   "cell_type": "code",
   "execution_count": 1,
   "metadata": {},
   "outputs": [],
   "source": [
    "from langchain_community.document_loaders.json_loader import JSONLoader\n",
    "from langchain_community.document_loaders.text import TextLoader\n",
    "from langchain_community.document_loaders.pdf import PyPDFLoader\n",
    "from langchain_community.document_loaders.youtube import YoutubeLoader\n",
    "from langchain_community.document_loaders.blob_loaders.youtube_audio import YoutubeAudioLoader\n",
    "from langchain_community.document_loaders.word_document import Docx2txtLoader"
   ]
  },
  {
   "cell_type": "code",
   "execution_count": 13,
   "metadata": {},
   "outputs": [],
   "source": [
    "json_path = 'docs/bible_3.json'\n",
    "word_path = 'docs/Document.docx'\n",
    "pdf_path = 'docs/7 ESPRITS.pdf'\n",
    "youtube_1 = 'y9k-U9AuDeM'\n",
    "youtube_2 = 'pePAAGfh-IU'\n",
    "youtube_3 = 'CiSaY2xl9V4'\n"
   ]
  },
  {
   "cell_type": "code",
   "execution_count": 37,
   "metadata": {},
   "outputs": [
    {
     "data": {
      "text/plain": [
       "('bible_3', '.json')"
      ]
     },
     "execution_count": 37,
     "metadata": {},
     "output_type": "execute_result"
    }
   ],
   "source": [
    "from pathlib import Path\n",
    "def split_ext(uploaded_file:str):\n",
    "    \"\"\"\n",
    "    \"\"\"\n",
    "    path = Path(uploaded_file)\n",
    "    name = path.stem\n",
    "    extension = path.suffix\n",
    "    return name, extension\n",
    "\n",
    "split_ext(json_path)"
   ]
  },
  {
   "cell_type": "markdown",
   "metadata": {},
   "source": [
    "Custom loader"
   ]
  },
  {
   "cell_type": "code",
   "execution_count": 2,
   "metadata": {},
   "outputs": [],
   "source": [
    "from typing import Iterator\n",
    "import json\n",
    "\n",
    "from langchain_core.document_loaders import BaseLoader\n",
    "from langchain_core.documents import Document\n",
    "\n",
    "\n",
    "class BibleLoader(BaseLoader):\n",
    "    \"\"\"An example document loader that reads a file line by line.\"\"\"\n",
    "\n",
    "    def __init__(self, file_path: str) -> None:\n",
    "        \"\"\"Initialize the loader with a file path.\n",
    "\n",
    "        Args:\n",
    "            file_path: The path to the file to load.\n",
    "        \"\"\"\n",
    "        self.file_path = file_path\n",
    "\n",
    "    def lazy_load(self) -> Iterator[Document]:  # <-- Does not take any arguments\n",
    "        \"\"\"A lazy loader that reads a file line by line.\n",
    "\n",
    "        When you're implementing lazy load methods, you should use a generator\n",
    "        to yield documents one by one.\n",
    "        \"\"\"\n",
    "        bible =  json.load(open(self.file_path, encoding='utf-8'))\n",
    "        for version in bible:\n",
    "            for book in bible[version]:\n",
    "                text = bible[version][book]['text']\n",
    "                yield Document(\n",
    "                page_content=text,\n",
    "                metadata={\"version\": version, \"book\": book})\n"
   ]
  },
  {
   "cell_type": "code",
   "execution_count": 6,
   "metadata": {},
   "outputs": [],
   "source": [
    "loader = BibleLoader(\n",
    "    file_path=json_path)\n",
    "\n",
    "bible_data = loader.load()"
   ]
  },
  {
   "cell_type": "markdown",
   "metadata": {},
   "source": [
    "Docx2txtLoader"
   ]
  },
  {
   "cell_type": "code",
   "execution_count": 9,
   "metadata": {},
   "outputs": [],
   "source": [
    "loader = Docx2txtLoader(file_path=word_path)\n",
    "word_data = loader.load()"
   ]
  },
  {
   "cell_type": "markdown",
   "metadata": {},
   "source": [
    "TextLoader"
   ]
  },
  {
   "cell_type": "code",
   "execution_count": 6,
   "metadata": {},
   "outputs": [],
   "source": [
    "# loader = TextLoader(file_path=pdf_path)\n",
    "# word_data = loader.load()"
   ]
  },
  {
   "cell_type": "markdown",
   "metadata": {},
   "source": [
    "PyPDFLoader"
   ]
  },
  {
   "cell_type": "code",
   "execution_count": 8,
   "metadata": {},
   "outputs": [],
   "source": [
    "loader = PyPDFLoader(file_path=pdf_path) #, extract_images=True)\n",
    "pdf_data = loader.load()"
   ]
  },
  {
   "cell_type": "markdown",
   "metadata": {},
   "source": [
    "YoutubeLoader"
   ]
  },
  {
   "cell_type": "code",
   "execution_count": 14,
   "metadata": {},
   "outputs": [],
   "source": [
    "loader = YoutubeLoader(video_id=youtube_1,\n",
    "                       add_video_info =True)\n",
    "ytb_data = loader.load()"
   ]
  },
  {
   "cell_type": "code",
   "execution_count": null,
   "metadata": {},
   "outputs": [],
   "source": []
  },
  {
   "cell_type": "markdown",
   "metadata": {},
   "source": [
    "Spliter"
   ]
  },
  {
   "cell_type": "code",
   "execution_count": 20,
   "metadata": {},
   "outputs": [],
   "source": [
    "from langchain_text_splitters import RecursiveCharacterTextSplitter\n",
    "text_splitter = RecursiveCharacterTextSplitter(chunk_size=1024, \n",
    "                                               chunk_overlap=50)\n"
   ]
  },
  {
   "cell_type": "code",
   "execution_count": 22,
   "metadata": {},
   "outputs": [],
   "source": [
    "pdf_splited_data = text_splitter.split_documents(pdf_data)\n",
    "bible_splited_data = text_splitter.split_documents(bible_data)"
   ]
  },
  {
   "cell_type": "code",
   "execution_count": null,
   "metadata": {},
   "outputs": [],
   "source": []
  },
  {
   "cell_type": "code",
   "execution_count": 13,
   "metadata": {},
   "outputs": [],
   "source": [
    "def print_doc(doc_list, limit = 10):\n",
    "    for i, elem in enumerate(doc_list):\n",
    "        print(f\"Document n° : {i}, Meta: {elem.metadata}\")# \\n Content: {elem.page_content}\")\n",
    "        if i == limit:\n",
    "            break\n",
    "    print(len(doc_list))"
   ]
  },
  {
   "cell_type": "markdown",
   "metadata": {},
   "source": [
    "Embeddings"
   ]
  },
  {
   "cell_type": "code",
   "execution_count": 23,
   "metadata": {},
   "outputs": [],
   "source": [
    "from langchain_community.embeddings.ollama import OllamaEmbeddings\n",
    "from langchain_community.embeddings.fastembed import FastEmbedEmbeddings"
   ]
  },
  {
   "cell_type": "code",
   "execution_count": null,
   "metadata": {},
   "outputs": [],
   "source": [
    "from langchain_community.llms.llamacpp import LlamaCpp\n",
    "n_gpu_layers = 1  # Metal set to 1 is enough.\n",
    "n_batch = 512  # Should be between 1 and n_ctx, consider the amount of RAM of your Apple Silicon Chip.\n",
    "\n",
    "# Make sure the model path is correct for your system!\n",
    "llm = LlamaCpp(\n",
    "    model_path=\"C:/Users/sem.eglohlokoh/Documents/vscode/rag/models/capybarahermes-2.5-mistral-7b.Q2_K.gguf\",\n",
    "    n_gpu_layers=n_gpu_layers,\n",
    "    n_batch=n_batch,\n",
    "    n_ctx=2048,\n",
    "    f16_kv=True,  # MUST set to True, otherwise you will run into problem after a couple of calls\n",
    "    verbose=True,\n",
    ")"
   ]
  },
  {
   "cell_type": "code",
   "execution_count": 26,
   "metadata": {},
   "outputs": [
    {
     "name": "stderr",
     "output_type": "stream",
     "text": [
      "Fetching 5 files: 100%|██████████| 5/5 [00:00<00:00, 37718.56it/s]\n"
     ]
    }
   ],
   "source": [
    "ollama_embedor = OllamaEmbeddings(model=\"gemma:2b\", top_k=30, top_p=0.7, show_progress=True,\n",
    "                                 num_thread=4 )\n",
    "# gemma:2b\n",
    "# llama3\n",
    "from sentence_transformers import SentenceTransformer\n",
    "# embd_model = SentenceTransformer(\"models/multilingual-e5-small\", device='cpu')\n",
    "# fast_embedor = FastEmbedEmbeddings()\n",
    "# model_name='sentence-transformers/paraphrase-multilingual-MiniLM-L12-v2'\n",
    "# dangvantuan/sentence-camembert-base\n",
    "# dangvantuan/sentence-camembert-large"
   ]
  },
  {
   "cell_type": "code",
   "execution_count": null,
   "metadata": {},
   "outputs": [],
   "source": [
    "fast_embedor = FastEmbedEmbeddings()\n",
    "#intfloat/multilingual-e5-large"
   ]
  },
  {
   "cell_type": "code",
   "execution_count": null,
   "metadata": {},
   "outputs": [],
   "source": [
    "embeddings = ollama_embedor.embed_documents(pdf_splited_data)"
   ]
  },
  {
   "cell_type": "code",
   "execution_count": 44,
   "metadata": {},
   "outputs": [
    {
     "name": "stderr",
     "output_type": "stream",
     "text": [
      "OllamaEmbeddings: 100%|██████████| 1/1 [00:03<00:00,  3.65s/it]\n"
     ]
    }
   ],
   "source": [
    "embedded_query = ollama_embedor.embed_query(\"What was the name mentioned in the document?\")\n"
   ]
  },
  {
   "cell_type": "markdown",
   "metadata": {},
   "source": [
    "Vector store"
   ]
  },
  {
   "cell_type": "code",
   "execution_count": 28,
   "metadata": {},
   "outputs": [],
   "source": [
    "from langchain_community.vectorstores.faiss import FAISS"
   ]
  },
  {
   "cell_type": "code",
   "execution_count": 21,
   "metadata": {},
   "outputs": [
    {
     "name": "stderr",
     "output_type": "stream",
     "text": [
      "OllamaEmbeddings: 100%|██████████| 136/136 [57:19<00:00, 25.29s/it]\n"
     ]
    }
   ],
   "source": [
    "db = FAISS.from_documents(pdf_splited_data, ollama_embedor)\n",
    "db.save_local(\"pdf_gemma_faiss\")"
   ]
  },
  {
   "cell_type": "code",
   "execution_count": 30,
   "metadata": {},
   "outputs": [],
   "source": [
    "db = FAISS.from_documents(pdf_splited_data, fast_embedor)\n",
    "db.save_local(\"pdf_fast_faiss\")"
   ]
  },
  {
   "cell_type": "code",
   "execution_count": 33,
   "metadata": {},
   "outputs": [],
   "source": [
    "query = \"quels sont les septs esprits\"\n",
    "docs = db.similarity_search(query, k=3)\n"
   ]
  },
  {
   "cell_type": "code",
   "execution_count": 34,
   "metadata": {},
   "outputs": [
    {
     "data": {
      "text/plain": [
       "[Document(page_content='dans différentes manifestations. Le même terme, «sept esprits» \\nest également utilisé pour le décrire dans Apocalypse 1: 4, \\nApocalypse 4: 5 et Apocalypse 5: 6. \\nRévélation 1: 4: \\n«Jean aux sept églises qui sont en Asie: grâce et paix à \\nvous, de celui qui est, qui était et qui doit venir; et des sept \\nesprits qui sont devant son trône»; \\nRévélation 4: 5: \\n\"Et du trône sortaient des éclairs, des tonnerres et des \\nvoix: et il y avait sept lampes de feu qui brûlaient devant le \\ntrône, qui sont les sept Esprits de Dieu.\" \\nRévélation 5: 6: \\n«Et je vis, et voici, au milieu du trône et des quatre \\nbêtes, et au milieu des anciens, se tenait un agneau comme \\nil avait été tué, ayant sept cornes et sept yeux, qui sont les \\nsept esprits de Dieu envoyé sur toute la terre. \" \\nLes sept Esprits de Dieu font référence à sept \\nmanifestations indépendantes du Saint-Esprit. Ce n\\'est \\ncependant pas la même chose que lorsque nous disons que la \\ndivinité est composée de trois personnes. La Trinité est un', metadata={'source': 'docs/7 ESPRITS.pdf', 'page': 11}),\n",
       " Document(page_content=\"message est allumé, trouvez rapidement une place, car il y a un \\nEsprit dans cet endroit qui ne prend pas gentiment une attitude \\nirrévérencieuse. \\nParfois, lors d'une réunion, une parole de l'Esprit est donnée et \\nun appel est fait. Dans de tels moments, il doit y avoir de la \\nrévérence. Par exemple, le ministre peut dire: «Il y a un \\nhomme ici qui est guéri de l'arthrite. Je veux que cet homme se \\nprésente. Si une femme décide de se manifester même \\nlorsqu'elle a entendu clairement que l'appel était pour un \\nhomme, une telle femme n'a pas cela Esprit de la crainte du \\nSeigneur en elle. J'ai vu des gens comme ça renversés sous \\nl'onction de l'Esprit de Dieu! \\nComprenez de quoi je parle. Il y a un temps où l'Esprit de \\nDieu entre en un lieu et Il insiste sur une révérence absolue. \\nIls n'avaient pas une telle vénération dans l'église \\ncorinthienne primitive. Même s'ils marchaient dans les \\nmanifestations des dons de l'Esprit, il leur manquait l'Esprit de\", metadata={'source': 'docs/7 ESPRITS.pdf', 'page': 65}),\n",
       " Document(page_content=\"Sept manifestations indépendantes de l'esprit \\nDans Ésaïe 11: 2, sept «Esprits» distincts sont mentionnés. \\nCeux-ci sont: \\n'L'Esprit \\ndu \\nSeigneur' \\nL'Esprit \\nde \\nsagesse \\n'L'esprit de \\ncompréhensi\\non' L'esprit \\nde Gounsel  'L'esprit de Wight  'L'esprit de la connaissance  'L'Esprit du Lear du Seigneur  \\nTous ces sept Esprits sont vraiment un seul Saint-Esprit\", metadata={'source': 'docs/7 ESPRITS.pdf', 'page': 10}),\n",
       " Document(page_content='sept yeux, qui sont les sept Esprits de Dieu. \\nPourquoi les sept esprits? \\nLorsque la Bible parle du Saint-Esprit comme des sept \\nEsprits de Dieu, cela implique la plénitude de l\\'Esprit, que vous \\npouvez ou non avoir dans votre vie. \\nDans Éphésiens 5:18, Paul nous dit: \"Ne vous enivrez pas \\ndu vin où il y a de l\\'excès, mais soyez remplis de l\\'Esprit.\" Le \\nsimple fait qu\\'il nous instruise à être remplis de l\\'Esprit \\nprésuppose que nous ne sommes pas toujours remplis de \\nl\\'Esprit. Si nous l\\'étions, il aurait dit: «Car vous êtes remplis de \\nl\\'Esprit». \\nLorsque le Saint-Esprit viendra vivre en vous, Il sera \\ntoujours en vous. Jésus a dit qu\\'Il demeurera avec vous pour \\ntoujours (Jean 14:16), mais cela ne veut pas dire que vous \\naurez toujours Sa plénitude. Quand vous avez moins que les \\nsept Esprits de Dieu manifestés en vous, cela signifie que vous', metadata={'source': 'docs/7 ESPRITS.pdf', 'page': 14})]"
      ]
     },
     "execution_count": 34,
     "metadata": {},
     "output_type": "execute_result"
    }
   ],
   "source": [
    "retriever = db.as_retriever()\n",
    "\n",
    "retriever.invoke(query)"
   ]
  },
  {
   "cell_type": "code",
   "execution_count": null,
   "metadata": {},
   "outputs": [],
   "source": []
  },
  {
   "cell_type": "code",
   "execution_count": null,
   "metadata": {},
   "outputs": [],
   "source": []
  },
  {
   "cell_type": "code",
   "execution_count": null,
   "metadata": {},
   "outputs": [],
   "source": []
  },
  {
   "cell_type": "code",
   "execution_count": null,
   "metadata": {},
   "outputs": [],
   "source": []
  }
 ],
 "metadata": {
  "kernelspec": {
   "display_name": "llms_p310",
   "language": "python",
   "name": "python3"
  },
  "language_info": {
   "codemirror_mode": {
    "name": "ipython",
    "version": 3
   },
   "file_extension": ".py",
   "mimetype": "text/x-python",
   "name": "python",
   "nbconvert_exporter": "python",
   "pygments_lexer": "ipython3",
   "version": "3.10.13"
  }
 },
 "nbformat": 4,
 "nbformat_minor": 2
}
