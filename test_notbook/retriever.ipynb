{
 "cells": [
  {
   "cell_type": "markdown",
   "metadata": {},
   "source": [
    "LOADER"
   ]
  },
  {
   "cell_type": "code",
   "execution_count": 4,
   "metadata": {},
   "outputs": [],
   "source": [
    "from langchain_community.document_loaders.json_loader import JSONLoader\n",
    "from langchain_community.document_loaders.text import TextLoader\n",
    "from langchain_community.document_loaders.pdf import PyPDFLoader\n",
    "from langchain_community.document_loaders.youtube import YoutubeLoader\n",
    "from langchain_community.document_loaders.blob_loaders.youtube_audio import YoutubeAudioLoader\n",
    "from langchain_community.document_loaders.word_document import Docx2txtLoader"
   ]
  },
  {
   "cell_type": "code",
   "execution_count": 5,
   "metadata": {},
   "outputs": [],
   "source": [
    "json_path = '../bible/bible_3.json'\n",
    "word_path = 'docs/Document.docx'\n",
    "pdf_path = 'docs/7 ESPRITS.pdf'\n",
    "youtube_1 = 'https://www.youtube.com/watch?v=y9k-U9AuDeM'\n",
    "youtube_2 = 'https://www.youtube.com/watch?v=pePAAGfh-IU'\n",
    "youtube_3 = 'https://www.youtube.com/watch?v=CiSaY2xl9V4'\n"
   ]
  },
  {
   "cell_type": "markdown",
   "metadata": {},
   "source": [
    "Custom loader"
   ]
  },
  {
   "cell_type": "code",
   "execution_count": 6,
   "metadata": {},
   "outputs": [],
   "source": [
    "from typing import AsyncIterator, Iterator\n",
    "import json\n",
    "\n",
    "from langchain_core.document_loaders import BaseLoader\n",
    "from langchain_core.documents import Document\n",
    "\n",
    "\n",
    "class BibleLoader(BaseLoader):\n",
    "    \"\"\"An example document loader that reads a file line by line.\"\"\"\n",
    "\n",
    "    def __init__(self, file_path: str) -> None:\n",
    "        \"\"\"Initialize the loader with a file path.\n",
    "\n",
    "        Args:\n",
    "            file_path: The path to the file to load.\n",
    "        \"\"\"\n",
    "        self.file_path = file_path\n",
    "\n",
    "    def lazy_load(self) -> Iterator[Document]:  # <-- Does not take any arguments\n",
    "        \"\"\"A lazy loader that reads a file line by line.\n",
    "\n",
    "        When you're implementing lazy load methods, you should use a generator\n",
    "        to yield documents one by one.\n",
    "        \"\"\"\n",
    "        bible =  json.load(open(self.file_path, encoding='utf-8'))\n",
    "        for version in bible:\n",
    "            for book in bible[version]:\n",
    "                text = bible[version][book]['text']\n",
    "                yield Document(\n",
    "                page_content=text,\n",
    "                metadata={\"version\": version, \"book\": book})\n"
   ]
  },
  {
   "cell_type": "code",
   "execution_count": 7,
   "metadata": {},
   "outputs": [],
   "source": [
    "loader = BibleLoader(\n",
    "    file_path=json_path)\n",
    "\n",
    "bible_data = loader.load()"
   ]
  },
  {
   "cell_type": "markdown",
   "metadata": {},
   "source": [
    "Docx2txtLoader"
   ]
  },
  {
   "cell_type": "code",
   "execution_count": 9,
   "metadata": {},
   "outputs": [],
   "source": [
    "loader = Docx2txtLoader(file_path=word_path)\n",
    "word_data = loader.load()"
   ]
  },
  {
   "cell_type": "markdown",
   "metadata": {},
   "source": [
    "TextLoader"
   ]
  },
  {
   "cell_type": "code",
   "execution_count": 6,
   "metadata": {},
   "outputs": [],
   "source": [
    "# loader = TextLoader(file_path=pdf_path)\n",
    "# word_data = loader.load()"
   ]
  },
  {
   "cell_type": "markdown",
   "metadata": {},
   "source": [
    "PyPDFLoader"
   ]
  },
  {
   "cell_type": "code",
   "execution_count": 8,
   "metadata": {},
   "outputs": [],
   "source": [
    "loader = PyPDFLoader(file_path=pdf_path) #, extract_images=True)\n",
    "pdf_data = loader.load()"
   ]
  },
  {
   "cell_type": "markdown",
   "metadata": {},
   "source": [
    "YoutubeLoader"
   ]
  },
  {
   "cell_type": "code",
   "execution_count": 8,
   "metadata": {},
   "outputs": [],
   "source": [
    "# youtube = [youtube_1, youtube_2, youtube_3]"
   ]
  },
  {
   "cell_type": "code",
   "execution_count": 9,
   "metadata": {},
   "outputs": [],
   "source": [
    "# loader = YoutubeLoader(video_id=youtube_1,\n",
    "#                        add_video_info =True)\n",
    "# ytb_data = loader.load()"
   ]
  },
  {
   "cell_type": "code",
   "execution_count": 10,
   "metadata": {},
   "outputs": [],
   "source": [
    "# loader = YoutubeAudioLoader(urls=youtube,save_dir='./audio')\n",
    "# ytb_data = loader.yield_blobs()\n",
    "# next(ytb_data)"
   ]
  },
  {
   "cell_type": "code",
   "execution_count": null,
   "metadata": {},
   "outputs": [],
   "source": []
  },
  {
   "cell_type": "markdown",
   "metadata": {},
   "source": [
    "Spliter"
   ]
  },
  {
   "cell_type": "code",
   "execution_count": 10,
   "metadata": {},
   "outputs": [],
   "source": [
    "from langchain_text_splitters import RecursiveCharacterTextSplitter\n",
    "text_splitter = RecursiveCharacterTextSplitter(chunk_size=1024, \n",
    "                                               chunk_overlap=50)\n"
   ]
  },
  {
   "cell_type": "code",
   "execution_count": 11,
   "metadata": {},
   "outputs": [],
   "source": [
    "pdf_splited_data = text_splitter.split_documents(pdf_data)\n",
    "word_splited_data = text_splitter.split_documents(word_data)\n",
    "bible_splited_data = text_splitter.split_documents(bible_data)"
   ]
  },
  {
   "cell_type": "code",
   "execution_count": null,
   "metadata": {},
   "outputs": [],
   "source": []
  },
  {
   "cell_type": "code",
   "execution_count": 13,
   "metadata": {},
   "outputs": [],
   "source": [
    "def print_doc(doc_list, limit = 10):\n",
    "    for i, elem in enumerate(doc_list):\n",
    "        print(f\"Document n° : {i}, Meta: {elem.metadata}\")# \\n Content: {elem.page_content}\")\n",
    "        if i == limit:\n",
    "            break\n",
    "    print(len(doc_list))"
   ]
  },
  {
   "cell_type": "markdown",
   "metadata": {},
   "source": [
    "Embeddings"
   ]
  },
  {
   "cell_type": "code",
   "execution_count": 23,
   "metadata": {},
   "outputs": [],
   "source": [
    "from langchain_community.embeddings.ollama import OllamaEmbeddings\n",
    "from langchain_community.embeddings.fastembed import FastEmbedEmbeddings"
   ]
  },
  {
   "cell_type": "code",
   "execution_count": null,
   "metadata": {},
   "outputs": [],
   "source": [
    "# from langchain_community.llms.llamacpp import LlamaCpp\n",
    "# n_gpu_layers = 1  # Metal set to 1 is enough.\n",
    "# n_batch = 512  # Should be between 1 and n_ctx, consider the amount of RAM of your Apple Silicon Chip.\n",
    "\n",
    "# # Make sure the model path is correct for your system!\n",
    "# llm = LlamaCpp(\n",
    "#     model_path=\"C:/Users/sem.eglohlokoh/Documents/vscode/rag/models/capybarahermes-2.5-mistral-7b.Q2_K.gguf\",\n",
    "#     n_gpu_layers=n_gpu_layers,\n",
    "#     n_batch=n_batch,\n",
    "#     n_ctx=2048,\n",
    "#     f16_kv=True,  # MUST set to True, otherwise you will run into problem after a couple of calls\n",
    "#     verbose=True,\n",
    "# )"
   ]
  },
  {
   "cell_type": "code",
   "execution_count": null,
   "metadata": {},
   "outputs": [],
   "source": [
    "ollama_embedor = OllamaEmbeddings(model=\"gemma:2b\", top_k=30, top_p=0.7, show_progress=True,\n",
    "                                 num_thread=4 )\n",
    "# gemma:2b\n",
    "# llama3\n",
    "from sentence_transformers import SentenceTransformer\n",
    "# embd_model = SentenceTransformer(\"models/multilingual-e5-small\", device='cpu')\n",
    "# fast_embedor = FastEmbedEmbeddings()\n",
    "# model_name='sentence-transformers/paraphrase-multilingual-MiniLM-L12-v2'\n",
    "# dangvantuan/sentence-camembert-base\n",
    "# dangvantuan/sentence-camembert-large"
   ]
  },
  {
   "cell_type": "code",
   "execution_count": 43,
   "metadata": {},
   "outputs": [
    {
     "name": "stderr",
     "output_type": "stream",
     "text": [
      "OllamaEmbeddings: 100%|██████████| 5/5 [01:54<00:00, 22.92s/it]\n"
     ]
    }
   ],
   "source": [
    "embeddings = ollama_embedor.embed_documents(pdf_splited_data)"
   ]
  },
  {
   "cell_type": "code",
   "execution_count": 44,
   "metadata": {},
   "outputs": [
    {
     "name": "stderr",
     "output_type": "stream",
     "text": [
      "OllamaEmbeddings: 100%|██████████| 1/1 [00:03<00:00,  3.65s/it]\n"
     ]
    }
   ],
   "source": [
    "embedded_query = ollama_embedor.embed_query(\"What was the name mentioned in the document?\")\n"
   ]
  },
  {
   "cell_type": "markdown",
   "metadata": {},
   "source": [
    "Vector store"
   ]
  },
  {
   "cell_type": "code",
   "execution_count": 20,
   "metadata": {},
   "outputs": [],
   "source": [
    "from langchain_community.vectorstores.faiss import FAISS"
   ]
  },
  {
   "cell_type": "code",
   "execution_count": 21,
   "metadata": {},
   "outputs": [
    {
     "name": "stderr",
     "output_type": "stream",
     "text": [
      "OllamaEmbeddings: 100%|██████████| 136/136 [57:19<00:00, 25.29s/it]\n"
     ]
    }
   ],
   "source": [
    "db = FAISS.from_documents(pdf_splited_data, ollama_embedor)\n",
    "db.save_local(\"pdf_gemma_faiss\")"
   ]
  },
  {
   "cell_type": "code",
   "execution_count": null,
   "metadata": {},
   "outputs": [],
   "source": [
    "db = FAISS.from_documents(pdf_splited_data, embd_model)\n",
    "db.save_local(\"pdf_e5-small_faiss\")"
   ]
  },
  {
   "cell_type": "code",
   "execution_count": null,
   "metadata": {},
   "outputs": [],
   "source": [
    "embd_model = SentenceTransformer(\"models/multilingual-e5-large-instruct\", device='cpu')\n",
    "db = FAISS.from_documents(pdf_splited_data, embd_model)\n",
    "db.save_local(\"pdf_e5-large_faiss\")"
   ]
  },
  {
   "cell_type": "code",
   "execution_count": 46,
   "metadata": {},
   "outputs": [
    {
     "name": "stderr",
     "output_type": "stream",
     "text": [
      "OllamaEmbeddings: 100%|██████████| 1/1 [00:04<00:00,  4.00s/it]\n"
     ]
    }
   ],
   "source": [
    "query = \"What is saide about Task creation and management in the document?\"\n",
    "docs = db.similarity_search(query, k=3)\n"
   ]
  },
  {
   "cell_type": "code",
   "execution_count": 47,
   "metadata": {},
   "outputs": [
    {
     "name": "stderr",
     "output_type": "stream",
     "text": [
      "OllamaEmbeddings: 100%|██████████| 1/1 [00:03<00:00,  3.38s/it]\n"
     ]
    },
    {
     "data": {
      "text/plain": [
       "[Document(page_content=\"Document 1: Functional Specification for a Mobile App for Task Management\\n\\nPurpose: To outline the features and functionalities of a mobile application for managing tasks and projects.\\n\\nScope: Define the app's target users, platforms, and integration with other tools or services.\\n\\nFeatures:\\n\\nTask creation and management: Detailed description of task creation, editing, categorization, prioritization, assignment, and completion tracking.\\n\\nProject management: Organization of tasks into projects, project creation and editing, progress tracking, and dependency management.\\n\\nCollaboration: Features for team collaboration, including task assignment, commenting, notifications, and file sharing.\\n\\nReminders and alerts: Implementation of reminders, push notifications, and due date alerts for tasks and projects.\\n\\nSearch and filtering: Robust search functionality to find tasks and projects based on various criteria, including keywords, tags, and assignees.\", metadata={'source': 'docs/Document.docx'}),\n",
       " Document(page_content='Non-Functional Requirements:\\n\\nPerformance: Define performance expectations, such as page loading times, product image optimization, and search responsiveness.\\n\\nSecurity: Specify security measures for user authentication, payment processing, and data protection.\\n\\nSEO (Search Engine Optimization): Implementation of SEO best practices to improve website visibility in search engine results.\\n\\nAccessibility: Ensure the website is accessible to users with disabilities, following WCAG guidelines.\\n\\nRemember: These are just outlines, and each document should be tailored to your specific requirements and project scope. Use clear headings, subheadings, and bullet points to organize the information effectively.', metadata={'source': 'docs/Document.docx'}),\n",
       " Document(page_content=\"Customization: Options for personalizing the app's interface, notification preferences, and task organization methods.\\n\\nNon-Functional Requirements:\\n\\nPerformance: Define performance expectations, such as loading times, responsiveness, and offline functionality.\\n\\nSecurity: Specify security measures for user authentication, data encryption, and access control.\\n\\nUsability: Outline usability principles for intuitive navigation, clear UI elements, and accessibility considerations.\\n\\n\\n\\n\\n\\n\\n\\n\\n\\n\\n\\nDocument 2: Functional Specification for a Customer Relationship Management (CRM) System\\n\\nPurpose: To document the features and functionalities of a CRM system for managing customer interactions and data.\\n\\nScope: Define the CRM's target users, supported businesses, and integration with other systems.\\n\\nFeatures:\\n\\nContact management: Creation, storage, and organization of customer contact information, including personal details, communication preferences, and purchase history.\", metadata={'source': 'docs/Document.docx'}),\n",
       " Document(page_content=\"Sales pipeline management: Tracking leads, opportunities, and deals throughout the sales process, with customizable stages and status tracking.\\n\\nMarketing automation: Automated marketing campaigns, email marketing tools, lead nurturing, and campaign performance tracking.\\n\\nCustomer support: Ticketing system for managing customer inquiries, issue resolution, and feedback collection.\\n\\nReporting and analytics: Generation of reports on customer data, sales performance, marketing campaign effectiveness, and customer support metrics.\\n\\nNon-Functional Requirements:\\n\\nScalability: Define the system's ability to handle growing data volumes and user traffic.\\n\\nData security: Specify security measures for protecting sensitive customer data, including compliance with data privacy regulations.\\n\\nIntegrations: Outline the ability to integrate with other business systems, such as accounting, marketing automation, and e-commerce platforms.\\n\\n\\n\\n\\n\\n\\n\\n\\n\\n\\n\\n\\n\\nDocument 3: Functional Specification for an E-commerce Website\", metadata={'source': 'docs/Document.docx'})]"
      ]
     },
     "execution_count": 47,
     "metadata": {},
     "output_type": "execute_result"
    }
   ],
   "source": [
    "retriever = db.as_retriever()\n",
    "\n",
    "retriever.invoke(query)"
   ]
  },
  {
   "cell_type": "code",
   "execution_count": 48,
   "metadata": {},
   "outputs": [],
   "source": [
    "\n",
    "\n",
    "# new_db = FAISS.load_local(\"faiss_index\", embeddings, asynchronous=True)\n",
    "\n",
    "# docs = await new_db.asimilarity_search(query)\n",
    "\n",
    "# docs[0]"
   ]
  }
 ],
 "metadata": {
  "kernelspec": {
   "display_name": "llms_p310",
   "language": "python",
   "name": "python3"
  },
  "language_info": {
   "codemirror_mode": {
    "name": "ipython",
    "version": 3
   },
   "file_extension": ".py",
   "mimetype": "text/x-python",
   "name": "python",
   "nbconvert_exporter": "python",
   "pygments_lexer": "ipython3",
   "version": "3.10.14"
  }
 },
 "nbformat": 4,
 "nbformat_minor": 2
}
